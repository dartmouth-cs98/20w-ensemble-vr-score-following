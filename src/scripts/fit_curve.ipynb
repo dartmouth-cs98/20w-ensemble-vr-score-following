{
 "cells": [
  {
   "cell_type": "code",
   "execution_count": 13,
   "metadata": {
    "collapsed": true
   },
   "outputs": [],
   "source": [
    "import numpy as np\n",
    "import sys\n",
    "import pickle\n",
    "\n",
    "sys.path.append('../../')\n",
    "\n",
    "from src.client.AudioClient import AudioClient\n",
    "from src.service.ModelService import Model\n",
    "\n",
    "from scipy.optimize import curve_fit\n",
    "from pylab import *\n",
    "\n",
    "import pandas as pd\n"
   ]
  },
  {
   "cell_type": "code",
   "execution_count": 14,
   "outputs": [
    {
     "name": "stdout",
     "output_type": "stream",
     "text": [
      "45 39\n",
      "50 39\n",
      "55 39\n",
      "60 39\n",
      "65 39\n",
      "70 39\n",
      "75 39\n",
      "80 39\n",
      "85 38\n",
      "90 34\n",
      "95 31\n",
      "100 27\n",
      "105 25\n",
      "110 22\n",
      "115 20\n",
      "120 18\n",
      "125 17\n",
      "130 15\n",
      "135 14\n",
      "140 13\n",
      "145 12\n",
      "150 11\n",
      "155 10\n",
      "160 10\n",
      "165 9\n",
      "170 8\n",
      "175 8\n",
      "180 7\n",
      "185 7\n",
      "190 7\n",
      "195 6\n",
      "200 6\n",
      "205 5\n",
      "210 5\n",
      "215 5\n",
      "220 5\n",
      "225 4\n",
      "230 4\n",
      "235 4\n",
      "240 4\n",
      "245 4\n",
      "250 3\n",
      "255 3\n",
      "260 3\n",
      "265 3\n",
      "270 3\n",
      "275 3\n",
      "280 3\n",
      "285 3\n",
      "290 2\n",
      "295 2\n",
      "300 2\n",
      "305 2\n",
      "310 2\n",
      "315 2\n",
      "[39, 39, 39, 39, 39, 39, 39, 39, 38, 34, 31, 27, 25, 22, 20, 18, 17, 15, 14, 13, 12, 11, 10, 10, 9, 8, 8, 7, 7, 7, 6, 6, 5, 5, 5, 5, 4, 4, 4, 4, 4, 3, 3, 3, 3, 3, 3, 3, 3, 2, 2, 2, 2, 2, 2]\n",
      "[45, 50, 55, 60, 65, 70, 75, 80, 85, 90, 95, 100, 105, 110, 115, 120, 125, 130, 135, 140, 145, 150, 155, 160, 165, 170, 175, 180, 185, 190, 195, 200, 205, 210, 215, 220, 225, 230, 235, 240, 245, 250, 255, 260, 265, 270, 275, 280, 285, 290, 295, 300, 305, 310, 315]\n"
     ]
    }
   ],
   "source": [
    "audio_client = AudioClient()\n",
    "model = Model(audio_client, 45)\n",
    "\n",
    "t = 0\n",
    "q = np.load(\"../../res/data/Twinkle_Recording.npy\")[:, 32:]\n",
    "counts = []\n",
    "tempos = []\n",
    "\n",
    "tempo = model.score.tempo\n",
    "\n",
    "while tempo < 320:\n",
    "    count = 0\n",
    "\n",
    "    while t < len(q[0]):\n",
    "        obs = q[:, t]\n",
    "        current_state, prob = model.next_observation(obs)\n",
    "        t += 1\n",
    "\n",
    "        if (current_state[0] == 2):\n",
    "            count += 1\n",
    "\n",
    "    print(tempo, count)\n",
    "\n",
    "    counts.append(count)\n",
    "    tempos.append(tempo)\n",
    "    tempo += 5\n",
    "    t = 0\n",
    "    del model\n",
    "    model = Model(audio_client, tempo)\n",
    "    model.score.tempo = tempo\n",
    "\n",
    "print(counts)\n",
    "print(tempos)"
   ],
   "metadata": {
    "collapsed": false,
    "pycharm": {
     "name": "#%%\n"
    }
   }
  },
  {
   "cell_type": "code",
   "execution_count": 15,
   "outputs": [
    {
     "name": "stdout",
     "output_type": "stream",
     "text": [
      "[5.71525910e+01 6.18936072e+01 2.13834509e-02 2.32707859e+00]\n"
     ]
    },
    {
     "data": {
      "text/plain": "<Figure size 432x288 with 1 Axes>",
      "image/png": "[encoded data removed]"
     },
     "metadata": {
      "needs_background": "light"
     },
     "output_type": "display_data"
    }
   ],
   "source": [
    "# https://stackoverflow.com/a/21421121\n",
    "\n",
    "# Put Data into Dataframe\n",
    "df = pd.DataFrame(list(zip(tempos[8:], counts[8:])), \n",
    "               columns =['Tempo', 'Frames Per Beat'])\n",
    "\n",
    "# Exponential Function\n",
    "def func(x, a, b, c, d):\n",
    "    return a*np.exp(-c*(x-b))+d\n",
    "\n",
    "x = df[\"Tempo\"]\n",
    "y = df[\"Frames Per Beat\"]\n",
    "\n",
    "# Fit parameters a,b,c,d\n",
    "args, _ = curve_fit(func, x, y, [100,400,0.001,0])\n",
    "print(args)\n",
    "\n",
    "# Plot against observed values\n",
    "plot(x,y)\n",
    "x=linspace(80, 350)\n",
    "plot(x,func(x,*args))\n",
    "xlabel(\"Tempo (bpm)\")\n",
    "ylabel(\"Frames Per Beat\")\n",
    "show()"
   ],
   "metadata": {
    "collapsed": false,
    "pycharm": {
     "name": "#%%\n"
    }
   }
  },
  {
   "cell_type": "code",
   "execution_count": 16,
   "outputs": [
    {
     "name": "stdout",
     "output_type": "stream",
     "text": [
      "158.95051899917462\n"
     ]
    }
   ],
   "source": [
    "def inv_func(y, a, b, c, d):\n",
    "    return (np.log((y - d)/(a)) / (-c)) + b\n",
    "\n",
    "print(inv_func(9.5, *args))\n",
    "\n",
    "with open('tempo_args.pkl', 'wb') as output:\n",
    "    pickle.dump(args, output, pickle.HIGHEST_PROTOCOL)"
   ],
   "metadata": {
    "collapsed": false,
    "pycharm": {
     "name": "#%%\n"
    }
   }
  },
  {
   "cell_type": "markdown",
   "source": [
    "The problem that I'm running into right now is that I'm not sure why my note durations are not correct.\n",
    "In other words, if I say that I want my score follower to progress at 60 bpm, i.e. I want a note to last 10 frames, it doesn't.\n",
    "In practice, it lasts some other amount for which I don't know the relationship/mapping to.\n",
    "\n",
    "We want a function that, given desired current tempo, produces the correct $a_{0,0}^i$ that produces the desired frames per beat.\n",
    "\n",
    "Given a tempo and recording speed, we can calculate how many frames a beat is supposed to last. From basic tests, my computer / the current implementation records at around 9.5 frames a second or 570 frames per minute\n",
    "\n",
    "By fitting the curve of score notated tempo to observed beat duration, we have a function that given a tempo, outputs the frames per beat that will actually occur in the system. It comes in the form\n",
    "\n",
    "$$f(x) = ae^{-c(x-b)} + d$$\n",
    "\n",
    "We can take the inverse of this function \n",
    "\n",
    "$$x = \\frac{ln\\left(\\frac{y-d}{a}\\right)}{-c} + b$$\n",
    "\n",
    "Which gives us a function that, given how many frames a beat is supposed to last, returns an approximation for the tempo for the system.\n",
    "\n",
    "With this, we can simply calculate the correct $a_{0,0}^i$, that will make a beat last the desired duration.\n",
    "\n",
    "$$a_{0,0}^i = 1 - \\frac{1}{\\frac{s}{x}}$$ \n",
    "\n",
    "where $s$ is the recording speed in frames per beat, and $x$ is the system tempo calculated from earlier.\n"
   ],
   "metadata": {
    "collapsed": false
   }
  },
  {
   "cell_type": "code",
   "execution_count": 17,
   "outputs": [
    {
     "name": "stdout",
     "output_type": "stream",
     "text": [
      "9.5 9.5\n"
     ]
    }
   ],
   "source": [
    "desired_tempo = 60\n",
    "desired_fpb = 570/desired_tempo\n",
    "\n",
    "system_tempo = inv_func(desired_fpb, *args)\n",
    "a_prob = 1 - (system_tempo / 570)\n",
    "\n",
    "empirical_fpb = func(system_tempo, *args)\n",
    "print(empirical_fpb, desired_fpb)\n"
   ],
   "metadata": {
    "collapsed": false,
    "pycharm": {
     "name": "#%%\n"
    }
   }
  },
  {
   "cell_type": "markdown",
   "source": [
    "Comparison between normal tempo and the new tempo that I spent all \n",
    "that time converting to doesn't have some trivial linear relationship."
   ],
   "metadata": {
    "collapsed": false,
    "pycharm": {
     "name": "#%% md\n"
    }
   }
  },
  {
   "cell_type": "code",
   "execution_count": 18,
   "outputs": [
    {
     "name": "stderr",
     "output_type": "stream",
     "text": [
      "/Library/Frameworks/Python.framework/Versions/3.6/lib/python3.6/site-packages/ipykernel_launcher.py:3: RuntimeWarning: invalid value encountered in log\n",
      "  This is separate from the ipykernel package so we can avoid doing imports until\n"
     ]
    },
    {
     "data": {
      "text/plain": "<Figure size 432x288 with 1 Axes>",
      "image/png": "[encoded data removed]"
     },
     "metadata": {
      "needs_background": "light"
     },
     "output_type": "display_data"
    }
   ],
   "source": [
    "tempo_x = []\n",
    "tempo_y = []\n",
    "for tempo in range(20, 300, 5):\n",
    "    system_tempo = inv_func(570/tempo, *args)\n",
    "    tempo_x.append(tempo)\n",
    "    tempo_y.append(system_tempo)\n",
    "\n",
    "plot(tempo_x, tempo_y)\n",
    "show()\n"
   ],
   "metadata": {
    "collapsed": false,
    "pycharm": {
     "name": "#%%\n"
    }
   }
  }
 ],
 "metadata": {
  "kernelspec": {
   "display_name": "Python 3",
   "language": "python",
   "name": "python3"
  },
  "language_info": {
   "codemirror_mode": {
    "name": "ipython",
    "version": 2
   },
   "file_extension": ".py",
   "mimetype": "text/x-python",
   "name": "python",
   "nbconvert_exporter": "python",
   "pygments_lexer": "ipython2",
   "version": "2.7.6"
  }
 },
 "nbformat": 4,
 "nbformat_minor": 0
}